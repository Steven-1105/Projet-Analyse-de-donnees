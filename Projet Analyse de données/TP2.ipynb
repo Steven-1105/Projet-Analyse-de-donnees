{
 "cells": [
  {
   "cell_type": "code",
   "execution_count": 6,
   "id": "db8940ae",
   "metadata": {},
   "outputs": [],
   "source": [
    "import numpy as np\n",
    "import scipy.optimize as sp"
   ]
  },
  {
   "cell_type": "code",
   "execution_count": 32,
   "id": "e19228b9",
   "metadata": {},
   "outputs": [],
   "source": [
    "def f(x):\n",
    "    return (x[0]-3)**2+(x[1]-4)**2"
   ]
  },
  {
   "cell_type": "markdown",
   "id": "5fa96061",
   "metadata": {},
   "source": [
    "## Apprendre à utiliser minimize"
   ]
  },
  {
   "cell_type": "code",
   "execution_count": 33,
   "id": "1b4000a1",
   "metadata": {},
   "outputs": [
    {
     "data": {
      "text/plain": [
       "      fun: 2.1882487526356894e-14\n",
       " hess_inv: array([[ 0.81999998, -0.24      ],\n",
       "       [-0.24      ,  0.68000002]])\n",
       "      jac: array([-2.27356026e-07,  1.84728737e-07])\n",
       "  message: 'Optimization terminated successfully.'\n",
       "     nfev: 12\n",
       "      nit: 3\n",
       "     njev: 4\n",
       "   status: 0\n",
       "  success: True\n",
       "        x: array([2.99999988, 4.00000008])"
      ]
     },
     "execution_count": 33,
     "metadata": {},
     "output_type": "execute_result"
    }
   ],
   "source": [
    "sp.minimize(f,[0,0])"
   ]
  },
  {
   "cell_type": "markdown",
   "id": "6d788272",
   "metadata": {},
   "source": [
    "## Apprendre à Implémenter une Descente de Gradient"
   ]
  },
  {
   "cell_type": "code",
   "execution_count": 34,
   "id": "3296ae78",
   "metadata": {},
   "outputs": [
    {
     "data": {
      "text/plain": [
       "array([3., 4.])"
      ]
     },
     "execution_count": 34,
     "metadata": {},
     "output_type": "execute_result"
    }
   ],
   "source": [
    "def df(x):\n",
    "    x1 = 2*(x[0]-3)\n",
    "    x2 = 2*(x[1]-4)\n",
    "    return np.array([x1,x2])\n",
    "\n",
    "#Gradient Descent algorithm\n",
    "def GradDescent(df,alpha,iterations):\n",
    "    x = np.array([0,0])\n",
    "    for i in range(iterations):\n",
    "        grad = df(x)\n",
    "        x = x - alpha*grad\n",
    "    return x\n",
    "    \n",
    "alpha = 0.1\n",
    "iterations = 100\n",
    "x_opt = GradDescent(df,alpha,iterations)\n",
    "x_opt"
   ]
  },
  {
   "cell_type": "markdown",
   "id": "3579862e",
   "metadata": {},
   "source": [
    "## Régression Linéaire Simple"
   ]
  },
  {
   "cell_type": "code",
   "execution_count": 35,
   "id": "5c1641cf",
   "metadata": {},
   "outputs": [
    {
     "data": {
      "text/html": [
       "<div>\n",
       "<style scoped>\n",
       "    .dataframe tbody tr th:only-of-type {\n",
       "        vertical-align: middle;\n",
       "    }\n",
       "\n",
       "    .dataframe tbody tr th {\n",
       "        vertical-align: top;\n",
       "    }\n",
       "\n",
       "    .dataframe thead th {\n",
       "        text-align: right;\n",
       "    }\n",
       "</style>\n",
       "<table border=\"1\" class=\"dataframe\">\n",
       "  <thead>\n",
       "    <tr style=\"text-align: right;\">\n",
       "      <th></th>\n",
       "      <th>TV</th>\n",
       "      <th>Sales</th>\n",
       "    </tr>\n",
       "  </thead>\n",
       "  <tbody>\n",
       "    <tr>\n",
       "      <th>0</th>\n",
       "      <td>230.1</td>\n",
       "      <td>22.1</td>\n",
       "    </tr>\n",
       "    <tr>\n",
       "      <th>1</th>\n",
       "      <td>44.5</td>\n",
       "      <td>10.4</td>\n",
       "    </tr>\n",
       "    <tr>\n",
       "      <th>2</th>\n",
       "      <td>17.2</td>\n",
       "      <td>9.3</td>\n",
       "    </tr>\n",
       "    <tr>\n",
       "      <th>3</th>\n",
       "      <td>151.5</td>\n",
       "      <td>18.5</td>\n",
       "    </tr>\n",
       "    <tr>\n",
       "      <th>4</th>\n",
       "      <td>180.8</td>\n",
       "      <td>12.9</td>\n",
       "    </tr>\n",
       "  </tbody>\n",
       "</table>\n",
       "</div>"
      ],
      "text/plain": [
       "      TV  Sales\n",
       "0  230.1   22.1\n",
       "1   44.5   10.4\n",
       "2   17.2    9.3\n",
       "3  151.5   18.5\n",
       "4  180.8   12.9"
      ]
     },
     "execution_count": 35,
     "metadata": {},
     "output_type": "execute_result"
    }
   ],
   "source": [
    "import pandas as pd\n",
    "\n",
    "df = pd.read_csv('tvmarketing.csv')\n",
    "df.head()"
   ]
  },
  {
   "cell_type": "code",
   "execution_count": 36,
   "id": "2a97e7c5",
   "metadata": {},
   "outputs": [],
   "source": [
    "x = df['TV'].values\n",
    "y = df['Sales'].values"
   ]
  },
  {
   "cell_type": "code",
   "execution_count": 37,
   "id": "03614cd3",
   "metadata": {},
   "outputs": [],
   "source": [
    "x_mean = x.mean()\n",
    "x_std = x.std()\n",
    "x_normalized = (x - x_mean) / x_std"
   ]
  },
  {
   "cell_type": "code",
   "execution_count": 38,
   "id": "0a05ce57",
   "metadata": {},
   "outputs": [
    {
     "data": {
      "image/png": "[encoded data removed]",
      "text/plain": [
       "<Figure size 432x288 with 1 Axes>"
      ]
     },
     "metadata": {
      "needs_background": "light"
     },
     "output_type": "display_data"
    }
   ],
   "source": [
    "import matplotlib.pyplot as plt\n",
    "\n",
    "plt.scatter(x_normalized,y,color = 'blue')\n",
    "plt.title('TV Marketing Spend VS Sales')\n",
    "plt.xlabel('Normalized TV Marketing Spend')\n",
    "plt.ylabel('Sales')\n",
    "plt.grid(True)\n",
    "plt.show()"
   ]
  },
  {
   "cell_type": "code",
   "execution_count": 39,
   "id": "3698a044",
   "metadata": {},
   "outputs": [
    {
     "name": "stdout",
     "output_type": "stream",
     "text": [
      "      fun: 10.51265291565942\n",
      " hess_inv: array([[ 0.53886684, -0.13387593],\n",
      "       [-0.13387593,  0.96113321]])\n",
      "      jac: array([2.26497650e-06, 2.38418579e-06])\n",
      "  message: 'Optimization terminated successfully.'\n",
      "     nfev: 12\n",
      "      nit: 2\n",
      "     njev: 4\n",
      "   status: 0\n",
      "  success: True\n",
      "        x: array([14.02250116,  4.07100727])\n"
     ]
    }
   ],
   "source": [
    "def prediction(x,tab):\n",
    "    w0,w1 = tab\n",
    "    return w0 + w1*x\n",
    "\n",
    "def erreurQuadratique(tab,x,y):\n",
    "    predictions = prediction(x,tab)\n",
    "    return np.mean((y - predictions)**2)\n",
    "\n",
    "initial_params = np.array([0,0])\n",
    "result = sp.minimize(erreurQuadratique, initial_params, args = (x_normalized,y))\n",
    "print(result)\n",
    "w0_opt, w1_opt = result.x"
   ]
  },
  {
   "cell_type": "code",
   "execution_count": 40,
   "id": "de75c58b",
   "metadata": {},
   "outputs": [
    {
     "data": {
      "image/png": "[encoded data removed]",
      "text/plain": [
       "<Figure size 432x288 with 1 Axes>"
      ]
     },
     "metadata": {
      "needs_background": "light"
     },
     "output_type": "display_data"
    }
   ],
   "source": [
    "plt.scatter(x_normalized,y,color = 'blue')\n",
    "plt.plot(x_normalized, prediction(x_normalized, [w0_opt, w1_opt]), color = 'red', label = 'Regression Line')\n",
    "plt.title('TV Marketing Spend VS Sales')\n",
    "plt.xlabel('Normalized TV Marketing Spend')\n",
    "plt.ylabel('Sales')\n",
    "plt.legend()\n",
    "plt.grid(True)\n",
    "plt.show()"
   ]
  },
  {
   "cell_type": "code",
   "execution_count": null,
   "id": "77042175",
   "metadata": {},
   "outputs": [],
   "source": [
    "def derreurQuadratique(x):\n",
    "    "
   ]
  }
 ],
 "metadata": {
  "kernelspec": {
   "display_name": "Python 3 (ipykernel)",
   "language": "python",
   "name": "python3"
  },
  "language_info": {
   "codemirror_mode": {
    "name": "ipython",
    "version": 3
   },
   "file_extension": ".py",
   "mimetype": "text/x-python",
   "name": "python",
   "nbconvert_exporter": "python",
   "pygments_lexer": "ipython3",
   "version": "3.10.12"
  }
 },
 "nbformat": 4,
 "nbformat_minor": 5
}
